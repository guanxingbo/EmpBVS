{
 "cells": [
  {
   "cell_type": "code",
   "execution_count": null,
   "id": "28e82834",
   "metadata": {
    "vscode": {
     "languageId": "r"
    }
   },
   "outputs": [],
   "source": [
    "#####\n",
    "library(emBayes)\n",
    "#class Metrics:\n",
    "    # tp: int; fp: int; fn: int; tn: int\n",
    "    # tpr: float; fpr: float\n",
    "    # selected: int; brier: float"
   ]
  },
  {
   "cell_type": "code",
   "execution_count": null,
   "id": "e03d8925",
   "metadata": {
    "vscode": {
     "languageId": "r"
    }
   },
   "outputs": [],
   "source": [
    "### Read multiple CSV data\n",
    "read_multiple_csv_data <- function(data_dir, file_pattern = \"dataX_\", num_files = 1) {\n",
    "  # Read multiple CSV files and combine them\n",
    "  all_dataX <- list()\n",
    "  all_dataY <- list()\n",
    "  \n",
    "  for (i in 0:(num_files-1)) {\n",
    "    # Construct file paths\n",
    "    dataX_file <- file.path(data_dir, paste0(\"dataX_\", i, \".csv\"))\n",
    "    dataY_file <- file.path(data_dir, paste0(\"dataY_\", i, \".csv\"))\n",
    "    \n",
    "    # Read CSV files\n",
    "    dataX <- read.csv(dataX_file)\n",
    "    dataY <- read.csv(dataY_file)\n",
    "    \n",
    "    # Store in lists (R list indexing starts from 1, so use i+1)\n",
    "    all_dataX[[i+1]] <- dataX\n",
    "    all_dataY[[i+1]] <- dataY\n",
    "  }\n",
    "  \n",
    "  # Return combined data\n",
    "  return(list(\n",
    "    dataX_list = all_dataX,\n",
    "    dataY_list = all_dataY,\n",
    "    num_files = num_files\n",
    "  ))\n",
    "}\n",
    "\n",
    "# Example usage:\n",
    "data_dir <- './R_test_bench/'\n",
    "combined_data <- read_multiple_csv_data(data_dir, \"dataX_\", 30)\n"
   ]
  },
  {
   "cell_type": "code",
   "execution_count": null,
   "id": "8662ddc1",
   "metadata": {
    "vscode": {
     "languageId": "r"
    }
   },
   "outputs": [
    {
     "data": {
      "text/plain": [
       "Time difference of 0.2979199 mins"
      ]
     },
     "metadata": {},
     "output_type": "display_data"
    }
   ],
   "source": [
    "embayes_fit <- function(y, X, quant_def=0.7){\n",
    "    t0 <- seq(0.1,0.15,length.out=2)\n",
    "    t1 <- seq(0.1,0.5,length.out=2)\n",
    "    CV <- cv.emBayes(y,clin=NULL,X,W=NULL,nt=NULL,group=NULL,quant=quant_def,t0,t1,k=5,\n",
    "                    func=\"ssLASSO\",error=0.01,maxiter=1)\n",
    "    s0 <- CV$CL.s0\n",
    "    s1 <- CV$CL.s1\n",
    "    EM <-emBayes(y,\n",
    "                clin = NULL,\n",
    "                X,\n",
    "                W = NULL,\n",
    "                nt = NULL,\n",
    "                group = NULL,\n",
    "                quant = quant_def,\n",
    "                s0 = s0,\n",
    "                s1 = s1,\n",
    "                func = \"ssLASSO\",\n",
    "                error = 0.01,\n",
    "                maxiter = 1)\n",
    "    return(EM)\n",
    "}\n",
    "# EM_result <- embayes_fit(y, X, quant)\n",
    "\n",
    "### Run the embayes_fit function for all the data\n",
    "n = combined_data$num_files\n",
    "result_list <- list()\n",
    "start_time <- Sys.time()\n",
    "for (i in 1:n){\n",
    "    X = as.matrix(combined_data$dataX_list[[i]])\n",
    "    y = combined_data$dataY_list[[i]]$y\n",
    "    y <- y[1:dim(X)[1]]\n",
    "    EM_result <- embayes_fit(y, X)\n",
    "    result_list[[i]] <- EM_result$beta\n",
    "}\n",
    "consumed_time <- Sys.time() - start_time\n",
    "ave_time <- consumed_time/n\n",
    "ave_time\n"
   ]
  },
  {
   "cell_type": "code",
   "execution_count": null,
   "id": "0a68edc0",
   "metadata": {
    "vscode": {
     "languageId": "r"
    }
   },
   "outputs": [],
   "source": [
    "### Write all result in CSV file\n",
    "write.csv(result_list, file = \"./R_test_bench/result_EM_T_100.csv\")\n",
    "# write.csv(result_list, file = \"./R_test_bench/result_EM_T_50.csv\")\n",
    "# write.csv(result_list, file = \"./R_test_bench/result_EM_Gamma_100.csv\")\n",
    "# write.csv(result_list, file = \"./R_test_bench/result_EM_Gamma_50.csv\")\n",
    "# write.csv(result_list, file = \"./R_test_bench/result_EM_Gau_100.csv\")\n",
    "# write.csv(result_list, file = \"./R_test_bench/result_EM_Gau_50.csv\")\n"
   ]
  }
 ],
 "metadata": {
  "kernelspec": {
   "display_name": "R",
   "language": "R",
   "name": "ir"
  },
  "language_info": {
   "codemirror_mode": "r",
   "file_extension": ".r",
   "mimetype": "text/x-r-source",
   "name": "R",
   "pygments_lexer": "r",
   "version": "4.5.1"
  }
 },
 "nbformat": 4,
 "nbformat_minor": 5
}
